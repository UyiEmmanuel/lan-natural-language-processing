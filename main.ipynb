{
 "cells": [
  {
   "cell_type": "code",
   "execution_count": 7,
   "id": "da18a991",
   "metadata": {
    "scrolled": true
   },
   "outputs": [
    {
     "data": {
      "text/html": [
       "<style>.container { width:100% !important; }</style>"
      ],
      "text/plain": [
       "<IPython.core.display.HTML object>"
      ]
     },
     "metadata": {},
     "output_type": "display_data"
    }
   ],
   "source": [
    "from IPython.display import display, HTML\n",
    "display(HTML(\"<style>.container { width:100% !important; }</style>\"))"
   ]
  },
  {
   "cell_type": "code",
   "execution_count": 14,
   "id": "cb1512df",
   "metadata": {},
   "outputs": [],
   "source": [
    "import pandas as pd\n",
    "import matplotlib.pyplot as plt\n",
    "from sklearn.feature_extraction.text import TfidfVectorizer\n"
   ]
  },
  {
   "cell_type": "code",
   "execution_count": 15,
   "id": "799187ad",
   "metadata": {},
   "outputs": [
    {
     "name": "stdout",
     "output_type": "stream",
     "text": [
      "(1000, 2)\n"
     ]
    }
   ],
   "source": [
    "# Read Data for the Fraudulent Email Kaggle Challenge\n",
    "df = pd.read_csv(\"kg_train.csv\", encoding='latin-1')\n",
    "\n",
    "# Reduce the training set to speed up development\n",
    "df = df.head(1000)\n",
    "print(df.shape)\n",
    "df.fillna(\"\", inplace=True)"
   ]
  },
  {
   "cell_type": "code",
   "execution_count": 29,
   "id": "359c594d",
   "metadata": {},
   "outputs": [],
   "source": [
    "import pandas as pd\n",
    "import matplotlib.pyplot as plt\n",
    "from sklearn.feature_extraction.text import TfidfVectorizer, CountVectorizer\n",
    "from sklearn.model_selection import train_test_split\n",
    "from sklearn.naive_bayes import MultinomialNB\n",
    "from sklearn.metrics import classification_report, accuracy_score\n",
    "import string\n",
    "import re\n",
    "import nltk\n",
    "from nltk.corpus import stopwords\n",
    "from nltk.stem.snowball import SnowballStemmer\n",
    "from scipy.sparse import hstack\n"
   ]
  },
  {
   "cell_type": "code",
   "execution_count": 21,
   "id": "5b07fd4c",
   "metadata": {
    "scrolled": true
   },
   "outputs": [],
   "source": [
    "# Divide the dataset into training and test sets\n",
    "train_df, test_df = train_test_split(data, test_size=0.2, random_state=42)\n"
   ]
  },
  {
   "cell_type": "code",
   "execution_count": 30,
   "id": "6b5bf1ad",
   "metadata": {},
   "outputs": [],
   "source": [
    "# Download the stopwords from NLTK\n",
    "nltk.download('stopwords', quiet=True)\n",
    "\n",
    "# Ensure the stopwords resource is available\n",
    "try:\n",
    "    stop_words = set(stopwords.words('english'))\n",
    "except LookupError:\n",
    "    nltk.download('stopwords')\n",
    "    stop_words = set(stopwords.words('english'))\n"
   ]
  },
  {
   "cell_type": "code",
   "execution_count": 31,
   "id": "c16aaa8a",
   "metadata": {},
   "outputs": [],
   "source": [
    "# Initialize stemmer\n",
    "snowball = SnowballStemmer('english')\n",
    "\n",
    "# Function for preprocessing text\n",
    "def preprocess_text(text):\n",
    "    # Remove inline JavaScript/CSS\n",
    "    text = re.sub(r'<(script|style).*?>.*?</\\1>', '', text, flags=re.DOTALL)\n",
    "    # Remove HTML comments\n",
    "    text = re.sub(r'<!--.*?-->', '', text)\n",
    "    # Remove HTML tags\n",
    "    text = re.sub(r'<.*?>', '', text)\n",
    "    # Remove special characters\n",
    "    text = re.sub(r'[^a-zA-Z\\s]', '', text)\n",
    "    # Remove numbers\n",
    "    text = re.sub(r'\\d+', '', text)\n",
    "    # Remove single characters\n",
    "    text = re.sub(r'\\b[a-zA-Z]\\b', '', text)\n",
    "    # Substitute multiple spaces with single space\n",
    "    text = re.sub(r'\\s+', ' ', text).strip()\n",
    "    # Convert to lowercase\n",
    "    text = text.lower()\n",
    "    # Remove stopwords\n",
    "    stop_words = set(stopwords.words('english'))\n",
    "    text = ' '.join(word for word in text.split() if word not in stop_words)\n",
    "    # Stemming\n",
    "    text = ' '.join(snowball.stem(word) for word in text.split())\n",
    "    return text\n",
    "\n",
    "# Apply preprocessing\n",
    "train_df['preprocessed_text'] = train_df['text'].apply(preprocess_text)\n",
    "test_df['preprocessed_text'] = test_df['text'].apply(preprocess_text)\n"
   ]
  },
  {
   "cell_type": "code",
   "execution_count": null,
   "id": "0bde5354",
   "metadata": {},
   "outputs": [],
   "source": [
    "# Feature Extraction Adding Extra Features"
   ]
  },
  {
   "cell_type": "code",
   "execution_count": 34,
   "id": "12051466",
   "metadata": {},
   "outputs": [
    {
     "data": {
      "text/html": [
       "<div>\n",
       "<style scoped>\n",
       "    .dataframe tbody tr th:only-of-type {\n",
       "        vertical-align: middle;\n",
       "    }\n",
       "\n",
       "    .dataframe tbody tr th {\n",
       "        vertical-align: top;\n",
       "    }\n",
       "\n",
       "    .dataframe thead th {\n",
       "        text-align: right;\n",
       "    }\n",
       "</style>\n",
       "<table border=\"1\" class=\"dataframe\">\n",
       "  <thead>\n",
       "    <tr style=\"text-align: right;\">\n",
       "      <th></th>\n",
       "      <th>text</th>\n",
       "      <th>label</th>\n",
       "      <th>preprocessed_text</th>\n",
       "      <th>money_mark</th>\n",
       "      <th>suspicious_words</th>\n",
       "      <th>text_len</th>\n",
       "    </tr>\n",
       "  </thead>\n",
       "  <tbody>\n",
       "    <tr>\n",
       "      <th>29</th>\n",
       "      <td>----------- REGARDS, MR NELSON SMITH.KINDLY RE...</td>\n",
       "      <td>1</td>\n",
       "      <td>regard mr nelson smithkind repli privat email ...</td>\n",
       "      <td>1</td>\n",
       "      <td>0</td>\n",
       "      <td>72</td>\n",
       "    </tr>\n",
       "    <tr>\n",
       "      <th>535</th>\n",
       "      <td>I have not been able to reach oscar this am. W...</td>\n",
       "      <td>0</td>\n",
       "      <td>abl reach oscar suppos send pdb receiv</td>\n",
       "      <td>1</td>\n",
       "      <td>0</td>\n",
       "      <td>38</td>\n",
       "    </tr>\n",
       "    <tr>\n",
       "      <th>695</th>\n",
       "      <td>; Huma Abedin B6I'm checking with Pat on the 5...</td>\n",
       "      <td>0</td>\n",
       "      <td>huma abedin bim check pat work jack jake resta...</td>\n",
       "      <td>1</td>\n",
       "      <td>0</td>\n",
       "      <td>76</td>\n",
       "    </tr>\n",
       "    <tr>\n",
       "      <th>557</th>\n",
       "      <td>I can have it announced here on Monday - can't...</td>\n",
       "      <td>0</td>\n",
       "      <td>announc monday cant today</td>\n",
       "      <td>1</td>\n",
       "      <td>0</td>\n",
       "      <td>25</td>\n",
       "    </tr>\n",
       "    <tr>\n",
       "      <th>836</th>\n",
       "      <td>BANK OF AFRICAAGENCE SAN PEDRO14 BP 1210 S...</td>\n",
       "      <td>1</td>\n",
       "      <td>bank africaag san pedro bp san pedro cote divo...</td>\n",
       "      <td>1</td>\n",
       "      <td>1</td>\n",
       "      <td>959</td>\n",
       "    </tr>\n",
       "  </tbody>\n",
       "</table>\n",
       "</div>"
      ],
      "text/plain": [
       "                                                  text  label  \\\n",
       "29   ----------- REGARDS, MR NELSON SMITH.KINDLY RE...      1   \n",
       "535  I have not been able to reach oscar this am. W...      0   \n",
       "695  ; Huma Abedin B6I'm checking with Pat on the 5...      0   \n",
       "557  I can have it announced here on Monday - can't...      0   \n",
       "836      BANK OF AFRICAAGENCE SAN PEDRO14 BP 1210 S...      1   \n",
       "\n",
       "                                     preprocessed_text  money_mark  \\\n",
       "29   regard mr nelson smithkind repli privat email ...           1   \n",
       "535             abl reach oscar suppos send pdb receiv           1   \n",
       "695  huma abedin bim check pat work jack jake resta...           1   \n",
       "557                          announc monday cant today           1   \n",
       "836  bank africaag san pedro bp san pedro cote divo...           1   \n",
       "\n",
       "     suspicious_words  text_len  \n",
       "29                  0        72  \n",
       "535                 0        38  \n",
       "695                 0        76  \n",
       "557                 0        25  \n",
       "836                 1       959  "
      ]
     },
     "execution_count": 34,
     "metadata": {},
     "output_type": "execute_result"
    }
   ],
   "source": [
    "money_simbol_list = \"|\".join([\"euro\", \"dollar\", \"pound\", \"€\", \"$\"])\n",
    "suspicious_words = \"|\".join([\"free\", \"cheap\", \"sex\", \"money\", \"account\", \"bank\", \"fund\", \"transfer\", \"transaction\", \"win\", \"deposit\", \"password\"])\n",
    "\n",
    "train_df['money_mark'] = train_df['preprocessed_text'].str.contains(money_simbol_list)*1\n",
    "train_df['suspicious_words'] = train_df['preprocessed_text'].str.contains(suspicious_words)*1\n",
    "train_df['text_len'] = train_df['preprocessed_text'].apply(lambda x: len(x))\n",
    "\n",
    "test_df['money_mark'] = test_df['preprocessed_text'].str.contains(money_simbol_list)*1\n",
    "test_df['suspicious_words'] = test_df['preprocessed_text'].str.contains(suspicious_words)*1\n",
    "test_df['text_len'] = test_df['preprocessed_text'].apply(lambda x: len(x))\n",
    "\n",
    "train_df.head()\n"
   ]
  },
  {
   "cell_type": "code",
   "execution_count": 36,
   "id": "82a3058b",
   "metadata": {},
   "outputs": [
    {
     "name": "stdout",
     "output_type": "stream",
     "text": [
      "(800, 14939)\n",
      "(200, 14939)\n"
     ]
    }
   ],
   "source": [
    "from sklearn.feature_extraction.text import CountVectorizer\n",
    "\n",
    "# Initialize CountVectorizer\n",
    "count_vect = CountVectorizer()\n",
    "X_train_counts = count_vect.fit_transform(train_df['preprocessed_text'])\n",
    "X_test_counts = count_vect.transform(test_df['preprocessed_text'])\n",
    "\n",
    "print(X_train_counts.shape)\n",
    "print(X_test_counts.shape)\n"
   ]
  },
  {
   "cell_type": "code",
   "execution_count": 38,
   "id": "1b52335c",
   "metadata": {},
   "outputs": [
    {
     "name": "stdout",
     "output_type": "stream",
     "text": [
      "(800, 14939)\n",
      "(200, 14939)\n"
     ]
    }
   ],
   "source": [
    "# Initialize TFIDF Vectorizer\n",
    "tfidf_vect = TfidfVectorizer()\n",
    "X_train_tfidf = tfidf_vect.fit_transform(train_df['preprocessed_text'])\n",
    "X_test_tfidf = tfidf_vect.transform(test_df['preprocessed_text'])\n",
    "\n",
    "print(X_train_tfidf.shape)\n",
    "print(X_test_tfidf.shape)\n"
   ]
  },
  {
   "cell_type": "code",
   "execution_count": 39,
   "id": "13857b50",
   "metadata": {},
   "outputs": [
    {
     "name": "stdout",
     "output_type": "stream",
     "text": [
      "              precision    recall  f1-score   support\n",
      "\n",
      "           0       0.99      0.87      0.93       125\n",
      "           1       0.82      0.99      0.90        75\n",
      "\n",
      "    accuracy                           0.92       200\n",
      "   macro avg       0.91      0.93      0.91       200\n",
      "weighted avg       0.93      0.92      0.92       200\n",
      "\n",
      "Accuracy: 0.915\n"
     ]
    }
   ],
   "source": [
    "# Train a MultinomialNB classifier\n",
    "clf = MultinomialNB()\n",
    "clf.fit(X_train_tfidf, train_df['label'])\n",
    "\n",
    "# Predict on test data\n",
    "predictions = clf.predict(X_test_tfidf)\n",
    "\n",
    "# Evaluate the classifier\n",
    "print(classification_report(test_df['label'], predictions))\n",
    "print('Accuracy:', accuracy_score(test_df['label'], predictions))\n"
   ]
  },
  {
   "cell_type": "code",
   "execution_count": null,
   "id": "c9d62e54",
   "metadata": {},
   "outputs": [],
   "source": [
    "#Extra Task - Implement a SPAM/HAM Classifier"
   ]
  },
  {
   "cell_type": "code",
   "execution_count": 43,
   "id": "5341d6c6",
   "metadata": {},
   "outputs": [
    {
     "name": "stdout",
     "output_type": "stream",
     "text": [
      "              precision    recall  f1-score   support\n",
      "\n",
      "           0       0.99      0.64      0.78       125\n",
      "           1       0.62      0.99      0.76        75\n",
      "\n",
      "    accuracy                           0.77       200\n",
      "   macro avg       0.80      0.81      0.77       200\n",
      "weighted avg       0.85      0.77      0.77       200\n",
      "\n",
      "Accuracy: 0.77\n"
     ]
    }
   ],
   "source": [
    "# Since we have to use MultinomialNB with default parameters, we focus on improving the feature representation.\n",
    "# Combining features with TFIDF\n",
    "\n",
    "# Combine the additional features with the TFIDF vectorized features\n",
    "from scipy.sparse import hstack\n",
    "\n",
    "extra_features_train = train_df[['money_mark', 'suspicious_words', 'text_len']].values\n",
    "extra_features_test = test_df[['money_mark', 'suspicious_words', 'text_len']].values\n",
    "\n",
    "X_train_combined = hstack([X_train_tfidf, extra_features_train])\n",
    "X_test_combined = hstack([X_test_tfidf, extra_features_test])\n",
    "\n",
    "# Train and evaluate the classifier with the combined features\n",
    "clf = MultinomialNB()\n",
    "clf.fit(X_train_combined, train_df['label'])\n",
    "\n",
    "# Predict on test data\n",
    "predictions_combined = clf.predict(X_test_combined)\n",
    "\n",
    "# Evaluate the classifier\n",
    "print(classification_report(test_df['label'], predictions_combined))\n",
    "print('Accuracy:', accuracy_score(test_df['label'], predictions_combined))\n"
   ]
  },
  {
   "cell_type": "code",
   "execution_count": null,
   "id": "9fc4041a",
   "metadata": {},
   "outputs": [],
   "source": []
  }
 ],
 "metadata": {
  "kernelspec": {
   "display_name": "Python 3 (ipykernel)",
   "language": "python",
   "name": "python3"
  },
  "language_info": {
   "codemirror_mode": {
    "name": "ipython",
    "version": 3
   },
   "file_extension": ".py",
   "mimetype": "text/x-python",
   "name": "python",
   "nbconvert_exporter": "python",
   "pygments_lexer": "ipython3",
   "version": "3.11.7"
  }
 },
 "nbformat": 4,
 "nbformat_minor": 5
}
